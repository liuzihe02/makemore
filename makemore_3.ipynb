{
 "cells": [
  {
   "cell_type": "markdown",
   "metadata": {},
   "source": [
    "# Makemore Part 3: Activations and Gradients, BatchNorm\n",
    "extending from makemore_2 with MLP - base code"
   ]
  },
  {
   "cell_type": "code",
   "execution_count": 92,
   "metadata": {},
   "outputs": [],
   "source": [
    "import random\n",
    "random.seed(42)\n",
    "import torch\n",
    "import torch.nn.functional as F\n",
    "import matplotlib.pyplot as plt\n",
    "%matplotlib inline\n",
    "\n",
    "def build_dataset(words, block_size, splits):\n",
    "    \"\"\"\n",
    "    Build a dataset from a list of words and split it into train, validation, and test sets. The data are tensors.\n",
    "\n",
    "    Args:\n",
    "    words (list): List of words to process.\n",
    "    block_size(int): number of previous tokens to look at, basically the context length\n",
    "    splits (list): List of three floats representing the proportions for train, validation, and test sets.\n",
    "\n",
    "    Returns:\n",
    "    tuple: Six tensors (X_train, Y_train, X_val, Y_val, X_test, Y_test) and two dictionaries (ctoi, itoc).\n",
    "    \"\"\"\n",
    "\n",
    "    # Input validation\n",
    "    if len(splits) != 3 or abs(sum(splits) - 1.0) > 1e-5:\n",
    "        raise ValueError(\"Splits must be a list of three floats that sum to 1.\")\n",
    "\n",
    "    # Build character to integer mapping\n",
    "    chars = sorted(list(set(''.join(words))))\n",
    "    ctoi = {s: i+1 for i, s in enumerate(chars)}\n",
    "    ctoi['.'] = 0  # EOS token\n",
    "    itoc = {i: s for s, i in ctoi.items()}\n",
    "\n",
    "    X, Y = [], []\n",
    "\n",
    "    # Generate context-target pairs\n",
    "    for word in words:\n",
    "        context = [0] * block_size\n",
    "        modified_word=word+'.'\n",
    "        for ch in modified_word:\n",
    "            idx = ctoi[ch]\n",
    "            X.append(context)\n",
    "            Y.append(idx)\n",
    "            context = context[1:] + [idx]\n",
    "\n",
    "    # Convert to tensors\n",
    "    X = torch.tensor(X)\n",
    "    Y = torch.tensor(Y)\n",
    "\n",
    "    # Split the data\n",
    "    total_samples = len(X)\n",
    "    train_size = int(splits[0] * total_samples)\n",
    "    val_size = int(splits[1] * total_samples)\n",
    "\n",
    "    X_train, Y_train = X[:train_size], Y[:train_size]\n",
    "    X_val, Y_val = X[train_size:train_size+val_size], Y[train_size:train_size+val_size]\n",
    "    X_test, Y_test = X[train_size+val_size:], Y[train_size+val_size:]\n",
    "\n",
    "    return X_train, Y_train, X_val, Y_val, X_test, Y_test, ctoi, itoc\n",
    "\n",
    "words = open('names.txt', 'r').read().splitlines()\n",
    "block_size=3\n",
    "X_train, Y_train, X_val, Y_val, X_test, Y_test, ctoi, itoc = build_dataset(words, block_size, [0.8, 0.1, 0.1])"
   ]
  },
  {
   "cell_type": "markdown",
   "metadata": {},
   "source": [
    "instead of hard coding all the sizes of the weights, we set them initially and infer where neccessary.\n",
    "\n",
    "Initialize all the neccessary params"
   ]
  },
  {
   "cell_type": "code",
   "execution_count": 93,
   "metadata": {},
   "outputs": [
    {
     "name": "stdout",
     "output_type": "stream",
     "text": [
      "number of paramters is 12297\n"
     ]
    }
   ],
   "source": [
    "g=torch.Generator().manual_seed(42)\n",
    "#size of embedding vector\n",
    "n_emb=10\n",
    "n_hidden=200\n",
    "\n",
    "num_ex=X_train.shape[0]\n",
    "vocab_size=len(ctoi.items())\n",
    "\n",
    "#initialize weights\n",
    "C=torch.randn((vocab_size,n_emb), generator=g)\n",
    "W1=torch.randn((n_emb*block_size, n_hidden), generator=g) *(5/3)/((n_emb*block_size)**0.5) #kaiming init\n",
    "#b1=torch.randn((n_hidden), generator=g) *0.01 #no need bias as were using batchnorm here\n",
    "W2=torch.randn((n_hidden,vocab_size), generator=g) * 0.01 #for regularization to prevent high init loss\n",
    "b2=torch.randn((vocab_size), generator=g) * 0.0\n",
    "#learned params for batchnorm\n",
    "bngain=torch.ones((1,n_hidden))\n",
    "bnbias=torch.zeros((1,n_hidden))\n",
    "#embedding matrix C is also learnt, part of params and part of backprop\n",
    "params=[C,W1,b1,W2,b2, bngain, bnbias]\n",
    "\n",
    "#running mean and std for batchnorm\n",
    "bnmean_running=torch.zeros((1,n_hidden))\n",
    "bnstd_running=torch.ones((1,n_hidden))\n",
    "\n",
    "num_params=sum(p.nelement() for p in params)\n",
    "print('number of paramters is',num_params)\n",
    "\n",
    "for p in params:\n",
    "    p.requires_grad=True"
   ]
  },
  {
   "cell_type": "code",
   "execution_count": 94,
   "metadata": {},
   "outputs": [],
   "source": [
    "max_steps=20000\n",
    "batch_size=32\n",
    "losses=[]\n",
    "\n",
    "#track train loss\n",
    "losses=[]"
   ]
  },
  {
   "cell_type": "markdown",
   "metadata": {},
   "source": [
    "training loop"
   ]
  },
  {
   "cell_type": "code",
   "execution_count": 95,
   "metadata": {},
   "outputs": [
    {
     "name": "stdout",
     "output_type": "stream",
     "text": [
      "step number 0 with loss of 3.2980\n",
      "step number 1000 with loss of 2.3614\n",
      "step number 2000 with loss of 2.4625\n",
      "step number 3000 with loss of 2.1263\n",
      "step number 4000 with loss of 2.5797\n",
      "step number 5000 with loss of 2.2726\n",
      "step number 6000 with loss of 1.7555\n",
      "step number 7000 with loss of 2.0081\n",
      "step number 8000 with loss of 2.1781\n",
      "step number 9000 with loss of 1.9399\n",
      "step number 10000 with loss of 2.1928\n",
      "step number 11000 with loss of 2.4817\n",
      "step number 12000 with loss of 2.3517\n",
      "step number 13000 with loss of 2.2511\n",
      "step number 14000 with loss of 2.4228\n",
      "step number 15000 with loss of 1.9422\n",
      "step number 16000 with loss of 2.1305\n",
      "step number 17000 with loss of 1.8314\n",
      "step number 18000 with loss of 2.0902\n",
      "step number 19000 with loss of 2.1747\n"
     ]
    },
    {
     "data": {
      "text/plain": [
       "Text(0, 0.5, 'log(loss)')"
      ]
     },
     "execution_count": 95,
     "metadata": {},
     "output_type": "execute_result"
    },
    {
     "data": {
      "image/png": "[encoded data removed]",
      "text/plain": [
       "<Figure size 640x480 with 1 Axes>"
      ]
     },
     "metadata": {},
     "output_type": "display_data"
    }
   ],
   "source": [
    "for i in range(max_steps):\n",
    "    #create minibatch, selects random indexes\n",
    "    idxs=torch.randint(0,num_ex,(batch_size,),generator=g)\n",
    "    X_batch, Y_batch = X_train[idxs], Y_train[idxs]\n",
    "\n",
    "    #forward pass\n",
    "\n",
    "    # if C is (vocab_length,embedding size) and X is (num_examples,block_size) then new tensor will be (num_examples,block_size, n_emb) where depth is embedding size\n",
    "    # e.g. if C is (27,2), X is (n,3) then inputs will be (n,3,2)\n",
    "    emb=C[X_batch]#embed into vectors\n",
    "    emb_cat=emb.view(batch_size,-1)#concat by combining the 3 heads\n",
    "    h_pre=emb_cat@W1 #hidden layer pre activations\n",
    "\n",
    "    # -------------------------\n",
    "    #batchnorm, done in real time! bngain and bnbias are learnt\n",
    "    bnmean_i=h_pre.mean(0,keepdim=True)\n",
    "    bnstd_i=h_pre.std(0,keepdim=True)\n",
    "    h_pre_norm= bngain * ((h_pre-bnmean_i)/bnstd_i) + bnbias\n",
    "    #update bnmean_running and bnstd_running\n",
    "    with torch.no_grad():\n",
    "        bnmean_running=0.99*bnmean_running + 0.01*bnmean_i\n",
    "        bnstd_running=0.99*bnstd_running + 0.01*bnstd_i\n",
    "    # -------------------------\n",
    "\n",
    "    # nonlinearity\n",
    "    h=torch.tanh(h_pre_norm)\n",
    "    logits=h@W2+b2 #output layer\n",
    "    loss=F.cross_entropy(logits,Y_batch) #minibatch loss\n",
    "\n",
    "    #backward pass\n",
    "    for p in params:\n",
    "        p.grad=None\n",
    "    loss.backward()\n",
    "\n",
    "    #update\n",
    "    lr = 0.1 if i <max_steps/2 else 0.01 #lr rate decay\n",
    "    for p in params:\n",
    "        p.data+= -lr*p.grad\n",
    "\n",
    "    #track stats\n",
    "    losses.append(loss.log10().item())#track losses, note that loss is LOG10 HERE!\n",
    "    if i%1000==0:\n",
    "        print(f'step number {i} with loss of {loss.item():.4f}')\n",
    "\n",
    "plt.plot(losses)\n",
    "plt.xlabel('step')\n",
    "plt.ylabel('log(loss)')"
   ]
  },
  {
   "cell_type": "code",
   "execution_count": 96,
   "metadata": {},
   "outputs": [
    {
     "name": "stdout",
     "output_type": "stream",
     "text": [
      "train loss is 2.142573595046997\n",
      "val loss is 2.3967647552490234\n"
     ]
    }
   ],
   "source": [
    "#eval loss on diff sets\n",
    "@torch.no_grad\n",
    "def eval_loss(X,Y):\n",
    "    '''X and Y are tensors, can either be train,val,test set etc\n",
    "    Does forward pass, then returns cross entropy'''\n",
    "    #forward pass\n",
    "    emb=C[X]#embed into vectors\n",
    "    emb_cat=emb.view(X.shape[0],-1)#concat by combining the 3 heads\n",
    "    h_pre=emb_cat@W1 #hidden layer pre activations\n",
    "    h_pre_norm= bngain * ((h_pre-bnmean_running)/bnstd_running) + bnbias\n",
    "    h=torch.tanh(h_pre_norm)\n",
    "    logits=h@W2+b2 #output layer\n",
    "    loss=F.cross_entropy(logits,Y) #minibatch loss\n",
    "    return loss.item()\n",
    "\n",
    "print('train loss is',eval_loss(X_train,Y_train))\n",
    "print('val loss is',eval_loss(X_val,Y_val))"
   ]
  },
  {
   "cell_type": "code",
   "execution_count": 97,
   "metadata": {},
   "outputs": [
    {
     "name": "stdout",
     "output_type": "stream",
     "text": [
      "andin.\n",
      "raeliah.\n",
      "navee.\n",
      "wiel.\n",
      "trente.\n",
      "lynt.\n",
      "kurie.\n",
      "kaisha.\n",
      "kiel.\n",
      "dalee.\n"
     ]
    }
   ],
   "source": [
    "def sample(num_times):    \n",
    "    #sample from model\n",
    "    for s in range(num_times):\n",
    "        context=[0]*block_size #start with ...\n",
    "        out=[]\n",
    "        while True:\n",
    "            #emb here is of shape\n",
    "            emb=C[torch.tensor(context)]\n",
    "            emb_cat=emb.view(1,-1)#concat by combining the 3 heads\n",
    "            h_pre=emb_cat@W1 #hidden layer pre activations\n",
    "            #no normalization here as only one row, cannot get mean or std\n",
    "            h_pre_norm= bngain * (h_pre-bnmean_running)/bnstd_running + bnbias\n",
    "            h=torch.tanh(h_pre_norm)\n",
    "            logits = h@W2 +b2\n",
    "            #do softmax horizontally\n",
    "            probs=F.softmax(logits,dim=1)\n",
    "\n",
    "            #samples from this distribution. replacement=False means it can only sample from that column once. need .item() to extract the number, else it will return a tensor object\n",
    "            idx = torch.multinomial(probs, num_samples=1, replacement=True).item()\n",
    "            #add to current list\n",
    "            out.append(itoc[idx])\n",
    "            #update context for next loop\n",
    "            context=context[1:] + [idx]\n",
    "            \n",
    "            #have reached the <E> token basically\n",
    "            if idx==0:\n",
    "                break\n",
    "        print(''.join(out))\n",
    "sample(10)"
   ]
  },
  {
   "cell_type": "markdown",
   "metadata": {},
   "source": [
    "#### Issue 1: Fixing high initial loss\n",
    "\n",
    "bad initialization can cause extremely high init losses. you want *initial output layer weights to all be quite small* - this way you will get a uniform distribution across output classes"
   ]
  },
  {
   "cell_type": "code",
   "execution_count": 12,
   "metadata": {},
   "outputs": [
    {
     "data": {
      "text/plain": [
       "tensor(3.2958)"
      ]
     },
     "execution_count": 12,
     "metadata": {},
     "output_type": "execute_result"
    }
   ],
   "source": [
    "#if we have 27 classes, then at init we expect uniform distribution over the classes so the expected nll is\n",
    "-torch.tensor(1/27.0).log()"
   ]
  },
  {
   "cell_type": "markdown",
   "metadata": {},
   "source": [
    "#### Issue 2: saturated tanh\n",
    "\n",
    "- activations gonna be quite extreme, because pre-activation range is very large\n",
    "- tanh squashes everything to near -1 or 1\n",
    "- going to be very bad for backprop, vanishing gradients\n",
    "    - since tanh.backward is `(1-t**2)` so if t is close to 1 or -1 the backward pass gonna be super small\n",
    "    - These are the pre-actiavtions <img src=\"images/saturated_pre.png\" width=\"400\"> you can see quite fat so mostly >>1\n",
    "    - These are the activations <img src=\"images/saturated_act.png\" width=\"400\">\n",
    "- a dead neuron is when all the examples make the neuron only zero or only one - this neuron doesnt learn\n",
    "    - Especially for activations functions with flat tails (therefore grad is roughly zero)\n",
    "    - So sigmoid/tanh/ReLU more common, Leaky ReLU not as much\n",
    "\n",
    "- **Solution to these is to squash the W&B for that layer (non-output layers)**"
   ]
  },
  {
   "cell_type": "code",
   "execution_count": 56,
   "metadata": {},
   "outputs": [
    {
     "data": {
      "text/plain": [
       "(array([1131.,  278.,  187.,  147.,  127.,  103.,  115.,   91.,   73.,\n",
       "          68.,   69.,   61.,   57.,   68.,   54.,   62.,   50.,   49.,\n",
       "          49.,   49.,   65.,   55.,   52.,   50.,   55.,   51.,   49.,\n",
       "          49.,   52.,   53.,   51.,   52.,   52.,   41.,   57.,   53.,\n",
       "          60.,   48.,   84.,   67.,   72.,   68.,   88.,  101.,  110.,\n",
       "         116.,  147.,  215.,  270., 1229.]),\n",
       " array([-9.99999940e-01, -9.59999942e-01, -9.19999943e-01, -8.79999944e-01,\n",
       "        -8.39999945e-01, -7.99999946e-01, -7.59999948e-01, -7.19999949e-01,\n",
       "        -6.79999950e-01, -6.39999951e-01, -5.99999952e-01, -5.59999954e-01,\n",
       "        -5.19999955e-01, -4.79999956e-01, -4.39999957e-01, -3.99999958e-01,\n",
       "        -3.59999959e-01, -3.19999961e-01, -2.79999962e-01, -2.39999963e-01,\n",
       "        -1.99999964e-01, -1.59999965e-01, -1.19999967e-01, -7.99999678e-02,\n",
       "        -3.99999690e-02,  2.98023224e-08,  4.00000286e-02,  8.00000274e-02,\n",
       "         1.20000026e-01,  1.60000025e-01,  2.00000024e-01,  2.40000023e-01,\n",
       "         2.80000021e-01,  3.20000020e-01,  3.60000019e-01,  4.00000018e-01,\n",
       "         4.40000017e-01,  4.80000015e-01,  5.20000014e-01,  5.60000013e-01,\n",
       "         6.00000012e-01,  6.40000011e-01,  6.80000010e-01,  7.20000008e-01,\n",
       "         7.60000007e-01,  8.00000006e-01,  8.40000005e-01,  8.80000004e-01,\n",
       "         9.20000002e-01,  9.60000001e-01,  1.00000000e+00]),\n",
       " <BarContainer object of 50 artists>)"
      ]
     },
     "execution_count": 56,
     "metadata": {},
     "output_type": "execute_result"
    },
    {
     "data": {
      "image/png": "[encoded data removed]",
      "text/plain": [
       "<Figure size 300x300 with 1 Axes>"
      ]
     },
     "metadata": {},
     "output_type": "display_data"
    },
    {
     "data": {
      "image/png": "[encoded data removed]",
      "text/plain": [
       "<Figure size 300x300 with 1 Axes>"
      ]
     },
     "metadata": {},
     "output_type": "display_data"
    }
   ],
   "source": [
    "plt.figure(figsize=(3,3))\n",
    "#preactivations\n",
    "plt.hist(h_pre.view(-1).tolist(),50)\n",
    "\n",
    "plt.figure(figsize=(3,3))\n",
    "#note if sampling then h is a single row, if training then h is a matrix with rows as number of examples\n",
    "plt.hist(h.view(-1).tolist(),50)"
   ]
  },
  {
   "cell_type": "markdown",
   "metadata": {},
   "source": [
    "#### Initialization Methods\n",
    "\n",
    "Kaiming initialization\n",
    "- We want to make the activations be roughly normal - mean 0 with std 1\n",
    "- Working through the math, init for weights is `N(0,1)/(n_input**0.5)`\n",
    "- note that depending on the activation function (non-linearity), the init needs to be multiplied by a factor of 2\n",
    "    - this factor is known as the gain [Pytorch init](https://pytorch.org/docs/stable/nn.init.html)\n",
    "\n",
    "```python\n",
    "#to scale the first layer weights by\n",
    "(5/3)/((n_emb*block_size)**0.5) #the gain here is 5/3 for tanh\n",
    "```"
   ]
  },
  {
   "cell_type": "markdown",
   "metadata": {},
   "source": [
    "### BatchNorm\n",
    "[Pytorch notes](https://pytorch.org/docs/stable/generated/torch.nn.BatchNorm1d.html)\n",
    "- you want the *hidden states (pre-activations) to be roughly gaussian*\n",
    "    - hence first normalize them to mean 0 with std 1\n",
    "- but not TOO gaussian\n",
    "    - hence make it scale with `bngain` and shift with `bnbias`\n",
    "- batchnorm is almost like a regularization, because the mean and std depend on that specific batch, abit of entropy, harder to overfit\n",
    "- however one weakness is the parameter updates are not determined example by example, but parameter updates depend on the selection of that batch\n",
    "    - so people have moved on to LayerNorm\n",
    "- note that if that layer has batchnorm, no need bias because the mean will subtract them away anyway. the `bnbias` will be responsible\n",
    "\n",
    "```python\n",
    "print(h_pre.shape)\n",
    "#average vertically, to normalize each neuron across the examples\n",
    "h_pre_norm=(h_pre-h_pre.mean(0,keepdim=True))/h_pre.std(0,keepdim=True)\n",
    "\n",
    "#the below are learned parameters that allow the model to slightly modify normal distribution\n",
    "bngain=torch.ones((1,n_hidden)) \n",
    "bnbias=torch.zeros((1,n_hidden))\n",
    "\n",
    "final= bngain * h_pre_norm + bnbias\n",
    "```\n",
    "\n",
    "#### running mean and std\n",
    "- Another weakness is how do you do BatchNorm for a single example, like sampling?\n",
    "- calibrate mean and std at the end of training over the entire train set\n",
    "\n",
    "```python\n",
    "with torch.no_grad():\n",
    "    #pass entire trainset through\n",
    "    bnmean=h_pre.mean(0,keepdim=True)\n",
    "    bnstd=h_pre.std(0,keepdim=True)\n",
    "```\n",
    "\n",
    "- **OR** another alternative is keep a running mean and std over training\n",
    "    - exponentially runnin\n",
    "```python\n",
    "bnmean_running=torch.zeros((1,n_hidden))\n",
    "bnstd_running=torch.ones((1,n_hidden))\n",
    "for i in range(max_steps):\n",
    "    bnmean_current=...\n",
    "    bnstd_current=...\n",
    "\n",
    "    bnmean_running=0.9* bnmean_running + 0.001 * bnmean_current\n",
    "    bnstd_running=0.9* bnstd_running + 0.001 * bnstd_current\n",
    "```\n",
    "\n",
    "- 0.001 here is the momentum. Use smaller momentum for smaller batch sizes\n",
    "\n"
   ]
  },
  {
   "cell_type": "markdown",
   "metadata": {},
   "source": [
    "### Pytorch-ifying everything"
   ]
  },
  {
   "cell_type": "code",
   "execution_count": null,
   "metadata": {},
   "outputs": [],
   "source": [
    "#build Linear layer\n",
    "class Linear:\n",
    "\n",
    "    def __init__(self, fan_in, fan_out, bias=True):\n",
    "        '''\n",
    "        bias=True means we also include the bias for this layer\n",
    "        '''\n",
    "        #kaiming init\n",
    "        self.weight=torch.randn((fan_in,fan_out))/fan_in**0.5\n",
    "        self.bias=torch.zeros(fan_out)if bias else None\n",
    "\n",
    "    def __call__(self,x):\n",
    "        self.out=x @ self.weight\n",
    "        if self.bias is not None:\n",
    "            self.out+=self.bias\n",
    "        return self.out\n",
    "    \n",
    "    def parameters(self):\n",
    "        #list of 2 pytorch tensors\n",
    "        return [self.weight] + ([] if self.bias is None else [self.bias])"
   ]
  }
 ],
 "metadata": {
  "kernelspec": {
   "display_name": "venv",
   "language": "python",
   "name": "python3"
  },
  "language_info": {
   "codemirror_mode": {
    "name": "ipython",
    "version": 3
   },
   "file_extension": ".py",
   "mimetype": "text/x-python",
   "name": "python",
   "nbconvert_exporter": "python",
   "pygments_lexer": "ipython3",
   "version": "3.10.12"
  }
 },
 "nbformat": 4,
 "nbformat_minor": 2
}
